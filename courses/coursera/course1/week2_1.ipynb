{
 "cells": [
  {
   "cell_type": "markdown",
   "metadata": {},
   "source": [
    "# Задача 1: сравнение предложений"
   ]
  },
  {
   "cell_type": "markdown",
   "metadata": {},
   "source": [
    "Дан набор предложений, скопированных с Википедии. Каждое из них имеет \"кошачью тему\" в одном из 3 смыслов:<br>\n",
    "- кошки(животные);<br>\n",
    "- UNIX-утилита cat для вывода содержимого файлов;<br>\n",
    "- версии операционной системы OS X, названные в честь семейства кошачьих.<br>\n",
    "\n",
    "Задача - найти 2 предложения, которые ближе всего  по смыслу к расположенному в самой первой строке. В качестве меры близости по смыслу мы будем использовать косинусное расстояние. <br>"
   ]
  },
  {
   "cell_type": "code",
   "execution_count": 1,
   "metadata": {},
   "outputs": [],
   "source": [
    "import numpy as np\n",
    "import scipy \n",
    "import matplotlib as plt"
   ]
  },
  {
   "cell_type": "code",
   "execution_count": 2,
   "metadata": {},
   "outputs": [],
   "source": [
    "# Считываем данные из файла\n",
    "with open('sentences.txt', 'r') as f:\n",
    "    nums = f.read().splitlines()\n"
   ]
  },
  {
   "cell_type": "code",
   "execution_count": 9,
   "metadata": {},
   "outputs": [],
   "source": [
    "# Приводим к нижнему регистру и проводим токенизацию\n",
    "import re\n",
    "mas_string=set()\n",
    "str_list=[]\n",
    "for x in nums:\n",
    "    y=x.lower()\n",
    "    tmp=re.split('[^a-z]', y)\n",
    "    tmp_set=[]\n",
    "    for k in tmp:\n",
    "        if (k!=''):\n",
    "            mas_string.add(k)\n",
    "            tmp_set.append(k)\n",
    "        else:\n",
    "            continue\n",
    "    str_list.append(tmp_set)"
   ]
  },
  {
   "cell_type": "code",
   "execution_count": 12,
   "metadata": {},
   "outputs": [],
   "source": [
    "#Составляем словарь всех встречающихся слов\n",
    "tmp=list(mas_string)\n",
    "my_dict={}\n",
    "ind=1\n",
    "for x in tmp:\n",
    "    my_dict[x]=ind\n",
    "    ind+=1"
   ]
  },
  {
   "cell_type": "code",
   "execution_count": 13,
   "metadata": {},
   "outputs": [],
   "source": [
    "#Составляем матрицу (число столбцов-число всех слов, число строк -число предложений). \n",
    "#Каждый элемент соответсует число вхождений, соответсвующего слова в соответсвуеющее предложение.\n",
    "my_matrix=np.zeros((22,255))\n",
    "i=0\n",
    "for i in range(len(str_list)):\n",
    "   \n",
    "    for x in (str_list[i]):\n",
    "        if (x in mas_string):\n",
    "            k=my_dict[x]\n",
    "            my_matrix[i][k]+=1\n",
    "        else:\n",
    "            my_matrix[i][k]=0"
   ]
  },
  {
   "cell_type": "code",
   "execution_count": 14,
   "metadata": {},
   "outputs": [],
   "source": [
    "#Найдем косинусное расстояние между всеми предложениями и первым\n",
    "from scipy.spatial.distance import cosine\n",
    "result=[]\n",
    "for i in range(1,22):\n",
    "    tmp=scipy.spatial.distance.cosine(my_matrix[0,:],my_matrix[i,:])\n",
    "    result.append(tmp)"
   ]
  },
  {
   "cell_type": "code",
   "execution_count": 15,
   "metadata": {},
   "outputs": [
    {
     "data": {
      "text/plain": [
       "[0.9527544408738466,\n",
       " 0.8644738145642124,\n",
       " 0.8951715163278082,\n",
       " 0.7770887149698589,\n",
       " 0.9402385695332803,\n",
       " 0.7327387580875757,\n",
       " 0.9258750683338899,\n",
       " 0.8842724875284311,\n",
       " 0.9055088817476932,\n",
       " 0.8328165362273942,\n",
       " 0.8804771390665607,\n",
       " 0.8396432548525454,\n",
       " 0.8703592552895671,\n",
       " 0.8740118423302576,\n",
       " 0.9442721787424647,\n",
       " 0.8406361854220809,\n",
       " 0.956644501523794,\n",
       " 0.9442721787424647,\n",
       " 0.8885443574849294,\n",
       " 0.8427572744917122,\n",
       " 0.8250364469440588]"
      ]
     },
     "execution_count": 15,
     "metadata": {},
     "output_type": "execute_result"
    }
   ],
   "source": [
    "result"
   ]
  },
  {
   "cell_type": "code",
   "execution_count": 17,
   "metadata": {},
   "outputs": [],
   "source": [
    "#Найдем максимальное значение косинусного расстояния\n",
    "a=result\n",
    "max1 = a[0]\n",
    "pos = 0\n",
    "for i in range(len(a)):\n",
    "    if a[i]<max1: max1=a[i];pos=i\n"
   ]
  },
  {
   "cell_type": "code",
   "execution_count": 19,
   "metadata": {},
   "outputs": [
    {
     "name": "stdout",
     "output_type": "stream",
     "text": [
      "Номер предложения:5\n"
     ]
    }
   ],
   "source": [
    "print('Номер самого близкого по смыслу предложения к первому:'+str(pos))"
   ]
  }
 ],
 "metadata": {
  "kernelspec": {
   "display_name": "Python 3",
   "language": "python",
   "name": "python3"
  },
  "language_info": {
   "codemirror_mode": {
    "name": "ipython",
    "version": 3
   },
   "file_extension": ".py",
   "mimetype": "text/x-python",
   "name": "python",
   "nbconvert_exporter": "python",
   "pygments_lexer": "ipython3",
   "version": "3.7.4"
  }
 },
 "nbformat": 4,
 "nbformat_minor": 2
}
