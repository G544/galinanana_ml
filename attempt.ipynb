{
 "cells": [
  {
   "cell_type": "code",
   "execution_count": 72,
   "metadata": {},
   "outputs": [],
   "source": [
    "import numpy as np\n",
    "import pandas as pd\n",
    "\n",
    "from sklearn.feature_extraction.text import CountVectorizer\n",
    "from sklearn.model_selection import train_test_split\n",
    "from sklearn.linear_model import RidgeClassifier\n",
    "from sklearn.metrics import roc_auc_score\n",
    "\n",
    "import scipy\n",
    "\n",
    "%matplotlib inline\n",
    "from matplotlib import pyplot as plt\n",
    "import seaborn as sns"
   ]
  },
  {
   "cell_type": "markdown",
   "metadata": {},
   "source": [
    "## Загрузка данных"
   ]
  },
  {
   "cell_type": "code",
   "execution_count": 73,
   "metadata": {},
   "outputs": [],
   "source": [
    "f = open(r'linear_train.txt','r',encoding='utf-8')\n",
    "words=[]\n",
    "target=[]\n",
    "for line in f:\n",
    "    words.append(line.split(', ')[0])\n",
    "    target.append(line.split(', ')[1][0])\n",
    "\n",
    "    \n",
    "data=pd.DataFrame(words, columns=['name'])\n",
    "data['tar']=target\n",
    "data['tar']=data['tar'].astype(int)\n",
    "target=pd.DataFrame(target, columns=['tar'])\n",
    "target['tar']=target\n",
    "target['tar']=target['tar'].astype('int')\n",
    "f.close()\n",
    "\n",
    "\n",
    "f1 = open(r'linear_test.txt','r',encoding='utf-8')\n",
    "words1=[]\n",
    "for line in f1:\n",
    "    words1.append(line.split('\\n')[0])\n",
    "lin_test=pd.DataFrame(words1, columns=['name'])\n",
    "f1.close()\n",
    "\n",
    "\n",
    "data_res=data.copy()\n",
    "target_res=target.copy()"
   ]
  },
  {
   "cell_type": "code",
   "execution_count": 74,
   "metadata": {},
   "outputs": [
    {
     "data": {
      "text/html": [
       "<div>\n",
       "<style scoped>\n",
       "    .dataframe tbody tr th:only-of-type {\n",
       "        vertical-align: middle;\n",
       "    }\n",
       "\n",
       "    .dataframe tbody tr th {\n",
       "        vertical-align: top;\n",
       "    }\n",
       "\n",
       "    .dataframe thead th {\n",
       "        text-align: right;\n",
       "    }\n",
       "</style>\n",
       "<table border=\"1\" class=\"dataframe\">\n",
       "  <thead>\n",
       "    <tr style=\"text-align: right;\">\n",
       "      <th></th>\n",
       "      <th>name</th>\n",
       "      <th>tar</th>\n",
       "    </tr>\n",
       "  </thead>\n",
       "  <tbody>\n",
       "    <tr>\n",
       "      <td>0</td>\n",
       "      <td>Аалтонен</td>\n",
       "      <td>1</td>\n",
       "    </tr>\n",
       "    <tr>\n",
       "      <td>1</td>\n",
       "      <td>Аар</td>\n",
       "      <td>0</td>\n",
       "    </tr>\n",
       "    <tr>\n",
       "      <td>2</td>\n",
       "      <td>Аарон</td>\n",
       "      <td>0</td>\n",
       "    </tr>\n",
       "    <tr>\n",
       "      <td>3</td>\n",
       "      <td>ААРОН</td>\n",
       "      <td>0</td>\n",
       "    </tr>\n",
       "    <tr>\n",
       "      <td>4</td>\n",
       "      <td>Аарона</td>\n",
       "      <td>0</td>\n",
       "    </tr>\n",
       "    <tr>\n",
       "      <td>5</td>\n",
       "      <td>Аарона</td>\n",
       "      <td>1</td>\n",
       "    </tr>\n",
       "    <tr>\n",
       "      <td>6</td>\n",
       "      <td>Аароне</td>\n",
       "      <td>0</td>\n",
       "    </tr>\n",
       "    <tr>\n",
       "      <td>7</td>\n",
       "      <td>Ааронов</td>\n",
       "      <td>0</td>\n",
       "    </tr>\n",
       "    <tr>\n",
       "      <td>8</td>\n",
       "      <td>Аахена</td>\n",
       "      <td>0</td>\n",
       "    </tr>\n",
       "    <tr>\n",
       "      <td>9</td>\n",
       "      <td>Абабков</td>\n",
       "      <td>1</td>\n",
       "    </tr>\n",
       "    <tr>\n",
       "      <td>10</td>\n",
       "      <td>абажур</td>\n",
       "      <td>0</td>\n",
       "    </tr>\n",
       "    <tr>\n",
       "      <td>11</td>\n",
       "      <td>абажуром</td>\n",
       "      <td>0</td>\n",
       "    </tr>\n",
       "    <tr>\n",
       "      <td>12</td>\n",
       "      <td>абажуры</td>\n",
       "      <td>0</td>\n",
       "    </tr>\n",
       "    <tr>\n",
       "      <td>13</td>\n",
       "      <td>Абажуры</td>\n",
       "      <td>0</td>\n",
       "    </tr>\n",
       "    <tr>\n",
       "      <td>14</td>\n",
       "      <td>абак</td>\n",
       "      <td>0</td>\n",
       "    </tr>\n",
       "  </tbody>\n",
       "</table>\n",
       "</div>"
      ],
      "text/plain": [
       "        name  tar\n",
       "0   Аалтонен    1\n",
       "1        Аар    0\n",
       "2      Аарон    0\n",
       "3      ААРОН    0\n",
       "4     Аарона    0\n",
       "5     Аарона    1\n",
       "6     Аароне    0\n",
       "7    Ааронов    0\n",
       "8     Аахена    0\n",
       "9    Абабков    1\n",
       "10    абажур    0\n",
       "11  абажуром    0\n",
       "12   абажуры    0\n",
       "13   Абажуры    0\n",
       "14      абак    0"
      ]
     },
     "execution_count": 74,
     "metadata": {},
     "output_type": "execute_result"
    }
   ],
   "source": [
    "data.head(15)"
   ]
  },
  {
   "cell_type": "markdown",
   "metadata": {},
   "source": [
    "## Формирование признаков"
   ]
  },
  {
   "cell_type": "code",
   "execution_count": 75,
   "metadata": {},
   "outputs": [],
   "source": [
    "# Заглавная буква\n",
    "def first_letter(data):\n",
    "    data['big_sym']=[s.istitle() for s in data.name]\n",
    "    data['big_sym']=data['big_sym'].astype('int')\n",
    "\n",
    "\n",
    "first_letter(data)"
   ]
  },
  {
   "cell_type": "code",
   "execution_count": 76,
   "metadata": {},
   "outputs": [
    {
     "data": {
      "text/plain": [
       "0    27423\n",
       "1     8716\n",
       "Name: tar, dtype: int64"
      ]
     },
     "execution_count": 76,
     "metadata": {},
     "output_type": "execute_result"
    }
   ],
   "source": [
    "(data[data['big_sym'] == 1]['tar']).value_counts()#['tar'] == 0)#.value_counts()"
   ]
  },
  {
   "cell_type": "code",
   "execution_count": 77,
   "metadata": {},
   "outputs": [
    {
     "data": {
      "image/png": "[encoded data removed]",
      "text/plain": [
       "<Figure size 432x288 with 1 Axes>"
      ]
     },
     "metadata": {
      "needs_background": "light"
     },
     "output_type": "display_data"
    }
   ],
   "source": [
    "def plot_big_sym(data):\n",
    "    title_b_distribution = round((data[data['big_sym'] == 1]['tar']).value_counts()[1]/len(data[data['big_sym'] == 1]) * 100, 2)\n",
    "    title_l_distribution = round((data[data['big_sym'] == 0]['tar']).value_counts()[1]/len(data[data['big_sym'] == 0]) * 100, 2)\n",
    "    big_sym_df = pd.DataFrame(\n",
    "    { \"Percentage Surname\":{\"Big\": title_b_distribution,\"Little\": title_l_distribution},  \n",
    "     \"Percentage Not Surname\":{\"Big\": 100-title_b_distribution,\"Little\": 100-title_l_distribution}})\n",
    "    big_sym_df.plot.bar().set_title(\"Training Data - Percentage Surname with big first letter\")\n",
    "    \n",
    "plot_big_sym(data)"
   ]
  },
  {
   "cell_type": "markdown",
   "metadata": {},
   "source": [
    "Получается, что если буква маленькая, то слово почти наверняка не является фамилией. Наличие большой буквы практически не информативно."
   ]
  },
  {
   "cell_type": "code",
   "execution_count": 78,
   "metadata": {},
   "outputs": [],
   "source": [
    "# Длина слова\n",
    "\n",
    "def word_len(data):\n",
    "    data['len']=[len(s) for s in data.name]\n",
    "    data['len']=data['len'].astype(int)\n",
    "\n",
    "    \n",
    "word_len(data)"
   ]
  },
  {
   "cell_type": "code",
   "execution_count": 79,
   "metadata": {},
   "outputs": [
    {
     "data": {
      "text/plain": [
       "<matplotlib.axes._subplots.AxesSubplot at 0x1ea020de748>"
      ]
     },
     "execution_count": 79,
     "metadata": {},
     "output_type": "execute_result"
    },
    {
     "data": {
      "image/png": "[encoded data removed]",
      "text/plain": [
       "<Figure size 432x288 with 1 Axes>"
      ]
     },
     "metadata": {
      "needs_background": "light"
     },
     "output_type": "display_data"
    }
   ],
   "source": [
    "sns.distplot(data['len'],color='darkgreen',bins=27)"
   ]
  },
  {
   "cell_type": "code",
   "execution_count": 80,
   "metadata": {},
   "outputs": [
    {
     "data": {
      "text/plain": [
       "count    101408.000000\n",
       "mean          8.450152\n",
       "std           2.873555\n",
       "min           1.000000\n",
       "25%           6.000000\n",
       "50%           8.000000\n",
       "75%          10.000000\n",
       "max          33.000000\n",
       "Name: len, dtype: float64"
      ]
     },
     "execution_count": 80,
     "metadata": {},
     "output_type": "execute_result"
    }
   ],
   "source": [
    "data.len.describe()"
   ]
  },
  {
   "cell_type": "code",
   "execution_count": 81,
   "metadata": {},
   "outputs": [],
   "source": [
    "def det_range(a):\n",
    "    if a>=10:\n",
    "        return '>10'\n",
    "    if a==9:\n",
    "        return '9'\n",
    "    if a==8:\n",
    "        return '8'\n",
    "    if a==7:\n",
    "        return '7'\n",
    "    if a==6:\n",
    "        return '6'\n",
    "    if a==5:\n",
    "        return '5'\n",
    "    if a==4:\n",
    "        return '4'\n",
    "    if a<=3:\n",
    "        return '<3'\n",
    "    \n",
    "def len_range(data):\n",
    "    data['len_range']=[det_range(s) for s in data.len]\n",
    "    data.drop('len', axis=1, inplace=True)\n",
    "len_range(data)"
   ]
  },
  {
   "cell_type": "code",
   "execution_count": 82,
   "metadata": {},
   "outputs": [
    {
     "data": {
      "text/plain": [
       ">10    32359\n",
       "7      15216\n",
       "8      14602\n",
       "9      12492\n",
       "6      12291\n",
       "5       8788\n",
       "4       4230\n",
       "<3      1430\n",
       "Name: len_range, dtype: int64"
      ]
     },
     "execution_count": 82,
     "metadata": {},
     "output_type": "execute_result"
    }
   ],
   "source": [
    "data.len_range.value_counts()"
   ]
  },
  {
   "cell_type": "code",
   "execution_count": 83,
   "metadata": {},
   "outputs": [
    {
     "data": {
      "image/png": "[encoded data removed]",
      "text/plain": [
       "<Figure size 432x288 with 1 Axes>"
      ]
     },
     "metadata": {
      "needs_background": "light"
     },
     "output_type": "display_data"
    }
   ],
   "source": [
    "def plot_len(data):\n",
    "    x = sns.countplot(x = \"len_range\", hue = \"tar\", data = data, palette=[\"C1\", \"C0\"]).legend(labels = [\"Not Surname\", \"Surname\"])\n",
    "    x.set_title(\"Surname based on word len\")\n",
    "    \n",
    "plot_len(data)"
   ]
  },
  {
   "cell_type": "code",
   "execution_count": 84,
   "metadata": {},
   "outputs": [
    {
     "data": {
      "text/plain": [
       "0    90770\n",
       "1    10638\n",
       "Name: tar, dtype: int64"
      ]
     },
     "execution_count": 84,
     "metadata": {},
     "output_type": "execute_result"
    }
   ],
   "source": [
    "data.tar.value_counts()"
   ]
  },
  {
   "cell_type": "markdown",
   "metadata": {},
   "source": [
    "Видно, что классы сильно несбалансированы и отличаются почти в 9 раз, воспльзуемся андерсэмплингом для балансирвоки классов и повторим визуализацию признаков"
   ]
  },
  {
   "cell_type": "markdown",
   "metadata": {},
   "source": [
    "## Undersampling"
   ]
  },
  {
   "cell_type": "code",
   "execution_count": 85,
   "metadata": {},
   "outputs": [
    {
     "name": "stdout",
     "output_type": "stream",
     "text": [
      "80684\n"
     ]
    }
   ],
   "source": [
    "ind=data[data['tar'] == 0].index\n",
    "list_ind=list(ind)\n",
    "drop_ind=set(list_ind[0:len(list_ind):9])^set(list_ind)\n",
    "ind_1=pd.Int64Index(drop_ind)\n",
    "print(len(drop_ind))"
   ]
  },
  {
   "cell_type": "code",
   "execution_count": 86,
   "metadata": {},
   "outputs": [
    {
     "data": {
      "text/plain": [
       "1    10638\n",
       "0    10086\n",
       "Name: tar, dtype: int64"
      ]
     },
     "execution_count": 86,
     "metadata": {},
     "output_type": "execute_result"
    }
   ],
   "source": [
    "#Сбалансируем классы\n",
    "data.drop(drop_ind,inplace=True)\n",
    "data.tar.value_counts()"
   ]
  },
  {
   "cell_type": "code",
   "execution_count": 87,
   "metadata": {},
   "outputs": [
    {
     "data": {
      "image/png": "[encoded data removed]",
      "text/plain": [
       "<Figure size 432x288 with 1 Axes>"
      ]
     },
     "metadata": {
      "needs_background": "light"
     },
     "output_type": "display_data"
    }
   ],
   "source": [
    "#Заглавная буква\n",
    "first_letter(data)\n",
    "plot_big_sym(data)"
   ]
  },
  {
   "cell_type": "markdown",
   "metadata": {},
   "source": [
    "При сбалансированных классах большая буква почти всегда является показателем фамилии, а маленькая нет."
   ]
  },
  {
   "cell_type": "code",
   "execution_count": 88,
   "metadata": {},
   "outputs": [
    {
     "data": {
      "text/plain": [
       "<matplotlib.axes._subplots.AxesSubplot at 0x1ea0392cd88>"
      ]
     },
     "execution_count": 88,
     "metadata": {},
     "output_type": "execute_result"
    },
    {
     "data": {
      "image/png": "[encoded data removed]",
      "text/plain": [
       "<Figure size 432x288 with 1 Axes>"
      ]
     },
     "metadata": {
      "needs_background": "light"
     },
     "output_type": "display_data"
    }
   ],
   "source": [
    "#Длина слова\n",
    "word_len(data)\n",
    "sns.distplot(data['len'],color='darkgreen',bins=27)"
   ]
  },
  {
   "cell_type": "code",
   "execution_count": 89,
   "metadata": {},
   "outputs": [
    {
     "data": {
      "text/plain": [
       "count    20724.000000\n",
       "mean         7.853214\n",
       "std          2.631821\n",
       "min          1.000000\n",
       "25%          6.000000\n",
       "50%          8.000000\n",
       "75%          9.000000\n",
       "max         22.000000\n",
       "Name: len, dtype: float64"
      ]
     },
     "execution_count": 89,
     "metadata": {},
     "output_type": "execute_result"
    }
   ],
   "source": [
    "data.len.describe()"
   ]
  },
  {
   "cell_type": "code",
   "execution_count": 90,
   "metadata": {},
   "outputs": [
    {
     "data": {
      "image/png": "[encoded data removed]",
      "text/plain": [
       "<Figure size 432x288 with 1 Axes>"
      ]
     },
     "metadata": {
      "needs_background": "light"
     },
     "output_type": "display_data"
    }
   ],
   "source": [
    "len_range(data)\n",
    "plot_len(data)"
   ]
  },
  {
   "cell_type": "code",
   "execution_count": 91,
   "metadata": {},
   "outputs": [
    {
     "data": {
      "image/png": "[encoded data removed]",
      "text/plain": [
       "<Figure size 432x288 with 1 Axes>"
      ]
     },
     "metadata": {
      "needs_background": "light"
     },
     "output_type": "display_data"
    }
   ],
   "source": [
    "plot_len(data[data['big_sym']==1])"
   ]
  },
  {
   "cell_type": "code",
   "execution_count": 92,
   "metadata": {},
   "outputs": [
    {
     "data": {
      "image/png": "[encoded data removed]",
      "text/plain": [
       "<Figure size 432x288 with 1 Axes>"
      ]
     },
     "metadata": {
      "needs_background": "light"
     },
     "output_type": "display_data"
    }
   ],
   "source": [
    "plot_len(data[data['big_sym']==0])"
   ]
  },
  {
   "cell_type": "markdown",
   "metadata": {},
   "source": [
    "Видно, что слова длины меньше или равное 4 чаще являются фамилией, а слова длины более или равные 10 чаще являются не фамилией. Остальные категории слабо информативны, так что не будем их использовать."
   ]
  },
  {
   "cell_type": "code",
   "execution_count": 93,
   "metadata": {},
   "outputs": [],
   "source": [
    "#Наличие сторонних символов\n",
    "def rubber(data):\n",
    "    symbols=[r'\"', '.', ',', '-']\n",
    "    data['rubber']=[s not in symbols for s in data.name ]\n",
    "    data['rubber']=data['rubber'].astype('int')\n",
    "    \n",
    "rubber(data)    "
   ]
  },
  {
   "cell_type": "code",
   "execution_count": 94,
   "metadata": {
    "scrolled": true
   },
   "outputs": [
    {
     "data": {
      "text/plain": [
       "1    20724\n",
       "Name: rubber, dtype: int64"
      ]
     },
     "execution_count": 94,
     "metadata": {},
     "output_type": "execute_result"
    }
   ],
   "source": [
    "data.rubber.value_counts()"
   ]
  },
  {
   "cell_type": "markdown",
   "metadata": {},
   "source": [
    "При таком раскладе весьма бесполезный признак"
   ]
  },
  {
   "cell_type": "code",
   "execution_count": 95,
   "metadata": {},
   "outputs": [],
   "source": [
    "data.drop('rubber', axis=1, inplace=True)"
   ]
  },
  {
   "cell_type": "code",
   "execution_count": 96,
   "metadata": {},
   "outputs": [],
   "source": [
    "#Окончания \n",
    "def ending(data):\n",
    "    data['ending']=[s[-3:] for s in data.name]\n",
    "    \n",
    "ending(data)"
   ]
  },
  {
   "cell_type": "code",
   "execution_count": 97,
   "metadata": {},
   "outputs": [
    {
     "data": {
      "text/plain": [
       "count     20724\n",
       "unique     3664\n",
       "top         ами\n",
       "freq        462\n",
       "Name: ending, dtype: object"
      ]
     },
     "execution_count": 97,
     "metadata": {},
     "output_type": "execute_result"
    }
   ],
   "source": [
    "data['ending'].describe()"
   ]
  },
  {
   "cell_type": "code",
   "execution_count": 98,
   "metadata": {},
   "outputs": [],
   "source": [
    "a=data.ending.value_counts()\n",
    "d=dict(a)\n",
    "end_list=[]\n",
    "for x in d:\n",
    "    if d[x]>180:\n",
    "        end_list.append(x)"
   ]
  },
  {
   "cell_type": "code",
   "execution_count": 99,
   "metadata": {},
   "outputs": [],
   "source": [
    "def remove_end(end_list, a):\n",
    "    if a not in end_list:\n",
    "        return 0\n",
    "    else:\n",
    "        return a\n",
    "    \n",
    "def replace_end(data):\n",
    "    data['new_end']=[remove_end(end_list, s) for s in data.ending ]"
   ]
  },
  {
   "cell_type": "code",
   "execution_count": 100,
   "metadata": {},
   "outputs": [],
   "source": [
    "replace_end(data)"
   ]
  },
  {
   "cell_type": "code",
   "execution_count": 101,
   "metadata": {},
   "outputs": [
    {
     "data": {
      "image/png": "[encoded data removed]",
      "text/plain": [
       "<Figure size 432x288 with 1 Axes>"
      ]
     },
     "metadata": {
      "needs_background": "light"
     },
     "output_type": "display_data"
    }
   ],
   "source": [
    "def plot_end(data):\n",
    "    x = sns.countplot(x = \"new_end\", hue = \"tar\", data = data, palette=[\"C1\", \"C0\"]).legend(labels = [\"Not Surname\", \"Surname\"])\n",
    "    x.set_title(\"Surname based on word ending\")\n",
    "    \n",
    "plot_end(data[data['new_end']!=0])"
   ]
  },
  {
   "cell_type": "code",
   "execution_count": 102,
   "metadata": {},
   "outputs": [],
   "source": [
    "#Число гласных и согласных\n",
    "let_list=[\"а\",\"ы\", \"е\", \"ю\", \"я\", \"ё\", \"и\", \"о\", \"у\", \"э\", \"А\",\"Ы\", \"Е\", \"Ю\", \"Я\", \"Ё\", \"И\", \"О\", \"У\", \"Э\"]\n",
    "def v_count_in_word(name,let_list):\n",
    "    count=0\n",
    "    for x in name:\n",
    "        if x in let_list:\n",
    "            count+=1\n",
    "    return count\n",
    " \n",
    "def c_count_in_word(name,let_list):\n",
    "    count=0\n",
    "    for x in name:\n",
    "        if x not in let_list:\n",
    "            count+=1\n",
    "    return count\n",
    "\n",
    "def let_count(data, let_list):        \n",
    "    data['vowels_let']=[v_count_in_word(s,let_list) for s in data.name ]\n",
    "    data['cons_let']=[c_count_in_word(s,let_list) for s in data.name ]\n",
    "        \n",
    "\n",
    "let_count(data, let_list)"
   ]
  },
  {
   "cell_type": "code",
   "execution_count": 103,
   "metadata": {},
   "outputs": [
    {
     "data": {
      "image/png": "[encoded data removed]",
      "text/plain": [
       "<Figure size 432x288 with 1 Axes>"
      ]
     },
     "metadata": {
      "needs_background": "light"
     },
     "output_type": "display_data"
    }
   ],
   "source": [
    "def plot_v_let(data):\n",
    "    x = sns.countplot(x = \"vowels_let\", hue = \"tar\", data = data, palette=[\"C1\", \"C0\"]).legend(labels = [\"Not Surname\", \"Surname\"])\n",
    "    x.set_title(\"Surname based on vowels_letter in word\")\n",
    "    \n",
    "plot_v_let(data)"
   ]
  },
  {
   "cell_type": "markdown",
   "metadata": {},
   "source": [
    "Из полученных графиков можно сделать вывод, что в фамилиях тчаще всего встречаются 1,2,3 гласных буквы, а 5,6,7,8 в других словах"
   ]
  },
  {
   "cell_type": "code",
   "execution_count": 104,
   "metadata": {},
   "outputs": [
    {
     "data": {
      "image/png": "[encoded data removed]",
      "text/plain": [
       "<Figure size 432x288 with 1 Axes>"
      ]
     },
     "metadata": {
      "needs_background": "light"
     },
     "output_type": "display_data"
    }
   ],
   "source": [
    "def plot_c_let(data):\n",
    "    x = sns.countplot(x = \"cons_let\", hue = \"tar\", data = data, palette=[\"C1\", \"C0\"]).legend(labels = [\"Not Surname\", \"Surname\"])\n",
    "    x.set_title(\"Surname based on cons_letter in word\")\n",
    "    \n",
    "plot_c_let(data)"
   ]
  },
  {
   "cell_type": "markdown",
   "metadata": {},
   "source": [
    "Из полученных графиков можно сделать вывод, что в фамилиях тчаще всего встречаются 1,2,3,4 согласных буквы, а 6-12 в других словах"
   ]
  },
  {
   "cell_type": "code",
   "execution_count": 105,
   "metadata": {},
   "outputs": [],
   "source": [
    "#Все буквы заглавные\n",
    "def supper(data):\n",
    "    data['supper']=[s.isupper() for s in data.name ]\n",
    "    data['supper']=data['supper'].astype('int')\n",
    "    \n",
    "supper(data)\n",
    "\n"
   ]
  },
  {
   "cell_type": "code",
   "execution_count": 106,
   "metadata": {},
   "outputs": [
    {
     "data": {
      "image/png": "[encoded data removed]",
      "text/plain": [
       "<Figure size 432x288 with 1 Axes>"
      ]
     },
     "metadata": {
      "needs_background": "light"
     },
     "output_type": "display_data"
    }
   ],
   "source": [
    "def plot_sup_let(data):\n",
    "    x = sns.countplot(x = \"supper\", hue = \"tar\", data = data, palette=[\"C1\", \"C0\"]).legend(labels = [\"Not Surname\", \"Surname\"])\n",
    "    x.set_title(\"Surname based on vowels_letter in word\")\n",
    "    \n",
    "plot_sup_let(data)"
   ]
  },
  {
   "cell_type": "markdown",
   "metadata": {},
   "source": [
    "Практически неинформативный признак"
   ]
  },
  {
   "cell_type": "code",
   "execution_count": 107,
   "metadata": {},
   "outputs": [
    {
     "data": {
      "text/html": [
       "<div>\n",
       "<style scoped>\n",
       "    .dataframe tbody tr th:only-of-type {\n",
       "        vertical-align: middle;\n",
       "    }\n",
       "\n",
       "    .dataframe tbody tr th {\n",
       "        vertical-align: top;\n",
       "    }\n",
       "\n",
       "    .dataframe thead th {\n",
       "        text-align: right;\n",
       "    }\n",
       "</style>\n",
       "<table border=\"1\" class=\"dataframe\">\n",
       "  <thead>\n",
       "    <tr style=\"text-align: right;\">\n",
       "      <th></th>\n",
       "      <th>name</th>\n",
       "      <th>tar</th>\n",
       "      <th>big_sym</th>\n",
       "      <th>len_range</th>\n",
       "      <th>ending</th>\n",
       "      <th>new_end</th>\n",
       "      <th>vowels_let</th>\n",
       "      <th>cons_let</th>\n",
       "      <th>supper</th>\n",
       "    </tr>\n",
       "  </thead>\n",
       "  <tbody>\n",
       "    <tr>\n",
       "      <td>0</td>\n",
       "      <td>Аалтонен</td>\n",
       "      <td>1</td>\n",
       "      <td>1</td>\n",
       "      <td>8</td>\n",
       "      <td>нен</td>\n",
       "      <td>0</td>\n",
       "      <td>4</td>\n",
       "      <td>4</td>\n",
       "      <td>0</td>\n",
       "    </tr>\n",
       "    <tr>\n",
       "      <td>1</td>\n",
       "      <td>Аар</td>\n",
       "      <td>0</td>\n",
       "      <td>1</td>\n",
       "      <td>&lt;3</td>\n",
       "      <td>Аар</td>\n",
       "      <td>0</td>\n",
       "      <td>2</td>\n",
       "      <td>1</td>\n",
       "      <td>0</td>\n",
       "    </tr>\n",
       "    <tr>\n",
       "      <td>5</td>\n",
       "      <td>Аарона</td>\n",
       "      <td>1</td>\n",
       "      <td>1</td>\n",
       "      <td>6</td>\n",
       "      <td>она</td>\n",
       "      <td>0</td>\n",
       "      <td>4</td>\n",
       "      <td>2</td>\n",
       "      <td>0</td>\n",
       "    </tr>\n",
       "    <tr>\n",
       "      <td>9</td>\n",
       "      <td>Абабков</td>\n",
       "      <td>1</td>\n",
       "      <td>1</td>\n",
       "      <td>7</td>\n",
       "      <td>ков</td>\n",
       "      <td>ков</td>\n",
       "      <td>3</td>\n",
       "      <td>4</td>\n",
       "      <td>0</td>\n",
       "    </tr>\n",
       "    <tr>\n",
       "      <td>12</td>\n",
       "      <td>абажуры</td>\n",
       "      <td>0</td>\n",
       "      <td>0</td>\n",
       "      <td>7</td>\n",
       "      <td>уры</td>\n",
       "      <td>0</td>\n",
       "      <td>4</td>\n",
       "      <td>3</td>\n",
       "      <td>0</td>\n",
       "    </tr>\n",
       "    <tr>\n",
       "      <td>...</td>\n",
       "      <td>...</td>\n",
       "      <td>...</td>\n",
       "      <td>...</td>\n",
       "      <td>...</td>\n",
       "      <td>...</td>\n",
       "      <td>...</td>\n",
       "      <td>...</td>\n",
       "      <td>...</td>\n",
       "      <td>...</td>\n",
       "    </tr>\n",
       "    <tr>\n",
       "      <td>101383</td>\n",
       "      <td>ящерка</td>\n",
       "      <td>0</td>\n",
       "      <td>0</td>\n",
       "      <td>6</td>\n",
       "      <td>рка</td>\n",
       "      <td>0</td>\n",
       "      <td>3</td>\n",
       "      <td>3</td>\n",
       "      <td>0</td>\n",
       "    </tr>\n",
       "    <tr>\n",
       "      <td>101389</td>\n",
       "      <td>ящик</td>\n",
       "      <td>1</td>\n",
       "      <td>0</td>\n",
       "      <td>4</td>\n",
       "      <td>щик</td>\n",
       "      <td>0</td>\n",
       "      <td>2</td>\n",
       "      <td>2</td>\n",
       "      <td>0</td>\n",
       "    </tr>\n",
       "    <tr>\n",
       "      <td>101393</td>\n",
       "      <td>ящиках</td>\n",
       "      <td>0</td>\n",
       "      <td>0</td>\n",
       "      <td>6</td>\n",
       "      <td>ках</td>\n",
       "      <td>0</td>\n",
       "      <td>3</td>\n",
       "      <td>3</td>\n",
       "      <td>0</td>\n",
       "    </tr>\n",
       "    <tr>\n",
       "      <td>101402</td>\n",
       "      <td>ящура</td>\n",
       "      <td>0</td>\n",
       "      <td>0</td>\n",
       "      <td>5</td>\n",
       "      <td>ура</td>\n",
       "      <td>0</td>\n",
       "      <td>3</td>\n",
       "      <td>2</td>\n",
       "      <td>0</td>\n",
       "    </tr>\n",
       "    <tr>\n",
       "      <td>101403</td>\n",
       "      <td>Ёлкин</td>\n",
       "      <td>1</td>\n",
       "      <td>1</td>\n",
       "      <td>5</td>\n",
       "      <td>кин</td>\n",
       "      <td>0</td>\n",
       "      <td>2</td>\n",
       "      <td>3</td>\n",
       "      <td>0</td>\n",
       "    </tr>\n",
       "  </tbody>\n",
       "</table>\n",
       "<p>20724 rows × 9 columns</p>\n",
       "</div>"
      ],
      "text/plain": [
       "            name  tar  big_sym len_range ending new_end  vowels_let  cons_let  \\\n",
       "0       Аалтонен    1        1         8    нен       0           4         4   \n",
       "1            Аар    0        1        <3    Аар       0           2         1   \n",
       "5         Аарона    1        1         6    она       0           4         2   \n",
       "9        Абабков    1        1         7    ков     ков           3         4   \n",
       "12       абажуры    0        0         7    уры       0           4         3   \n",
       "...          ...  ...      ...       ...    ...     ...         ...       ...   \n",
       "101383    ящерка    0        0         6    рка       0           3         3   \n",
       "101389      ящик    1        0         4    щик       0           2         2   \n",
       "101393    ящиках    0        0         6    ках       0           3         3   \n",
       "101402     ящура    0        0         5    ура       0           3         2   \n",
       "101403     Ёлкин    1        1         5    кин       0           2         3   \n",
       "\n",
       "        supper  \n",
       "0            0  \n",
       "1            0  \n",
       "5            0  \n",
       "9            0  \n",
       "12           0  \n",
       "...        ...  \n",
       "101383       0  \n",
       "101389       0  \n",
       "101393       0  \n",
       "101402       0  \n",
       "101403       0  \n",
       "\n",
       "[20724 rows x 9 columns]"
      ]
     },
     "execution_count": 107,
     "metadata": {},
     "output_type": "execute_result"
    }
   ],
   "source": [
    "data"
   ]
  },
  {
   "cell_type": "code",
   "execution_count": 108,
   "metadata": {},
   "outputs": [],
   "source": [
    "#Закодируем категориальные признаки\n",
    "cat_feat=['len_range', 'new_end']\n",
    "len_data=pd.get_dummies(data['len_range'],prefix='len')\n",
    "ind=len_data.columns\n",
    "data[ind]=len_data[ind]\n",
    "data.drop('len_range', axis=1, inplace=True)"
   ]
  },
  {
   "cell_type": "code",
   "execution_count": 109,
   "metadata": {},
   "outputs": [],
   "source": [
    "\n",
    "end_data=pd.get_dummies(data['new_end'],prefix='len')\n",
    "ind1=end_data.columns\n",
    "data[ind1]=end_data[ind1]\n",
    "data.drop('new_end', axis=1, inplace=True)"
   ]
  },
  {
   "cell_type": "code",
   "execution_count": 110,
   "metadata": {},
   "outputs": [],
   "source": [
    "#Удалим все ненужные столбцы\n",
    "data.drop('ending', axis=1, inplace=True)\n",
    "data.drop('name', axis=1, inplace=True)"
   ]
  },
  {
   "cell_type": "code",
   "execution_count": 111,
   "metadata": {},
   "outputs": [],
   "source": [
    "balance_target=data['tar']\n",
    "data.drop('tar', axis=1, inplace=True)"
   ]
  },
  {
   "cell_type": "code",
   "execution_count": 112,
   "metadata": {},
   "outputs": [
    {
     "name": "stdout",
     "output_type": "stream",
     "text": [
      "<class 'pandas.core.frame.DataFrame'>\n",
      "Int64Index: 20724 entries, 0 to 101403\n",
      "Data columns (total 22 columns):\n",
      "big_sym       20724 non-null int32\n",
      "vowels_let    20724 non-null int64\n",
      "cons_let      20724 non-null int64\n",
      "supper        20724 non-null int32\n",
      "len_4         20724 non-null uint8\n",
      "len_5         20724 non-null uint8\n",
      "len_6         20724 non-null uint8\n",
      "len_7         20724 non-null uint8\n",
      "len_8         20724 non-null uint8\n",
      "len_9         20724 non-null uint8\n",
      "len_<3        20724 non-null uint8\n",
      "len_>10       20724 non-null uint8\n",
      "len_0         20724 non-null uint8\n",
      "len_ами       20724 non-null uint8\n",
      "len_ера       20724 non-null uint8\n",
      "len_ков       20724 non-null uint8\n",
      "len_ние       20724 non-null uint8\n",
      "len_ния       20724 non-null uint8\n",
      "len_ном       20724 non-null uint8\n",
      "len_ова       20724 non-null uint8\n",
      "len_ром       20724 non-null uint8\n",
      "len_сть       20724 non-null uint8\n",
      "dtypes: int32(2), int64(2), uint8(18)\n",
      "memory usage: 1.6 MB\n"
     ]
    }
   ],
   "source": [
    "data.info()"
   ]
  },
  {
   "cell_type": "markdown",
   "metadata": {},
   "source": [
    "## "
   ]
  },
  {
   "cell_type": "code",
   "execution_count": 113,
   "metadata": {},
   "outputs": [],
   "source": [
    "from sklearn.model_selection import train_test_split\n",
    "from sklearn.metrics import roc_auc_score\n",
    "X_train ,  X_test ,  y_train ,  y_test   = train_test_split(data, balance_target, test_size=0.2)"
   ]
  },
  {
   "cell_type": "code",
   "execution_count": 114,
   "metadata": {},
   "outputs": [
    {
     "data": {
      "text/plain": [
       "RandomForestClassifier(bootstrap=True, class_weight=None, criterion='entropy',\n",
       "                       max_depth=None, max_features='auto', max_leaf_nodes=None,\n",
       "                       min_impurity_decrease=0.0, min_impurity_split=None,\n",
       "                       min_samples_leaf=1, min_samples_split=2,\n",
       "                       min_weight_fraction_leaf=0.0, n_estimators=100,\n",
       "                       n_jobs=-1, oob_score=False, random_state=None, verbose=0,\n",
       "                       warm_start=False)"
      ]
     },
     "execution_count": 114,
     "metadata": {},
     "output_type": "execute_result"
    }
   ],
   "source": [
    "from sklearn.ensemble import RandomForestClassifier\n",
    "rf=RandomForestClassifier(n_estimators=100, n_jobs=-1, criterion='entropy')\n",
    "rf.fit(X_train, y_train)"
   ]
  },
  {
   "cell_type": "code",
   "execution_count": 115,
   "metadata": {},
   "outputs": [
    {
     "name": "stdout",
     "output_type": "stream",
     "text": [
      "Площадь под рок кривой на трейне 0.7845312807082644\n",
      "Площадь под рок кривой на тесте 0.7748937432367243\n"
     ]
    }
   ],
   "source": [
    "\n",
    "train_preds_rf = rf.predict(X_train)\n",
    "test_preds_rf = rf.predict(X_test)\n",
    "print('Площадь под рок кривой на трейне',roc_auc_score(y_train, train_preds_rf))\n",
    "print('Площадь под рок кривой на тесте',roc_auc_score(y_test, test_preds_rf))"
   ]
  },
  {
   "cell_type": "code",
   "execution_count": 116,
   "metadata": {},
   "outputs": [
    {
     "data": {
      "text/plain": [
       "Text(0.5, 1.05, 'Confusion_matrix for RF')"
      ]
     },
     "execution_count": 116,
     "metadata": {},
     "output_type": "execute_result"
    },
    {
     "data": {
      "image/png": "[encoded data removed]",
      "text/plain": [
       "<Figure size 432x288 with 2 Axes>"
      ]
     },
     "metadata": {
      "needs_background": "light"
     },
     "output_type": "display_data"
    }
   ],
   "source": [
    "from sklearn.metrics import confusion_matrix\n",
    "import seaborn as sns\n",
    "sns.heatmap(confusion_matrix(y_train,train_preds_rf),annot=True,fmt='3.0f',cmap=\"summer\")\n",
    "plt.title('Confusion_matrix for RF', y=1.05, size=25)"
   ]
  },
  {
   "cell_type": "code",
   "execution_count": 117,
   "metadata": {},
   "outputs": [
    {
     "data": {
      "text/plain": [
       "Lasso(alpha=0.0001, copy_X=True, fit_intercept=True, max_iter=1000,\n",
       "      normalize=False, positive=False, precompute=False, random_state=None,\n",
       "      selection='cyclic', tol=0.0001, warm_start=False)"
      ]
     },
     "execution_count": 117,
     "metadata": {},
     "output_type": "execute_result"
    }
   ],
   "source": [
    "\n",
    "from sklearn.linear_model import Lasso\n",
    "lclf=Lasso(alpha=0.0001)\n",
    "lclf.fit(X_train, y_train)"
   ]
  },
  {
   "cell_type": "code",
   "execution_count": 118,
   "metadata": {},
   "outputs": [
    {
     "name": "stdout",
     "output_type": "stream",
     "text": [
      "Ошибка на трейне 0.8204665769520968\n",
      "Ошибка на тесте 0.8225463162149125\n"
     ]
    }
   ],
   "source": [
    "train_preds2 = lclf.predict(X_train)\n",
    "valid_preds2 = lclf.predict(X_test)\n",
    "print('Ошибка на трейне',roc_auc_score(y_train, train_preds2))\n",
    "print('Ошибка на тесте',roc_auc_score(y_test, valid_preds2))"
   ]
  },
  {
   "cell_type": "code",
   "execution_count": 119,
   "metadata": {},
   "outputs": [],
   "source": [
    "def make_bin(data,lim):\n",
    "    a=list()\n",
    "    for x in data:\n",
    "        if (x>lim):\n",
    "            a.append(1)\n",
    "        else:\n",
    "            a.append(0)\n",
    "    return np.array(a)\n",
    "        "
   ]
  },
  {
   "cell_type": "code",
   "execution_count": 120,
   "metadata": {},
   "outputs": [],
   "source": [
    "pred_try=make_bin(valid_preds2,0.8)"
   ]
  },
  {
   "cell_type": "code",
   "execution_count": 121,
   "metadata": {},
   "outputs": [
    {
     "name": "stdout",
     "output_type": "stream",
     "text": [
      "Ошибка на трейне 0.8204665769520968\n",
      "Ошибка на тесте 0.7642804061038503\n"
     ]
    }
   ],
   "source": [
    "train_preds2 = lclf.predict(X_train)\n",
    "pred_try=make_bin(valid_preds2,0.5)\n",
    "print('Ошибка на трейне',roc_auc_score(y_train, train_preds2))\n",
    "print('Ошибка на тесте',roc_auc_score(y_test, pred_try))"
   ]
  },
  {
   "cell_type": "code",
   "execution_count": 122,
   "metadata": {},
   "outputs": [
    {
     "data": {
      "text/plain": [
       "Text(0.5, 1.05, 'Confusion_matrix for RF')"
      ]
     },
     "execution_count": 122,
     "metadata": {},
     "output_type": "execute_result"
    },
    {
     "data": {
      "image/png": "[encoded data removed]",
      "text/plain": [
       "<Figure size 432x288 with 2 Axes>"
      ]
     },
     "metadata": {
      "needs_background": "light"
     },
     "output_type": "display_data"
    }
   ],
   "source": [
    "sns.heatmap(confusion_matrix(y_train,make_bin(train_preds2,0.6)),annot=True,fmt='3.0f',cmap=\"summer\")\n",
    "plt.title('Confusion_matrix for RF', y=1.05, size=25)"
   ]
  },
  {
   "cell_type": "code",
   "execution_count": 123,
   "metadata": {},
   "outputs": [],
   "source": [
    "w=lclf.coef_\n",
    "\n",
    "def vis_w(data,w):\n",
    "    ind=data.columns\n",
    "    weights=dict()\n",
    "    for x,y in zip(ind,w):\n",
    "        weights[x]=y\n",
    "    return weights\n",
    "\n",
    "unsort_weigth=vis_w(data,w)\n",
    "weig_list=list(unsort_weigth.items())\n",
    "weig_list.sort(key=lambda i: abs(i[1]))"
   ]
  },
  {
   "cell_type": "code",
   "execution_count": 124,
   "metadata": {},
   "outputs": [
    {
     "data": {
      "text/plain": [
       "[('len_<3', -0.0),\n",
       " ('len_>10', 0.0),\n",
       " ('len_ния', -0.0),\n",
       " ('len_ром', 0.0),\n",
       " ('cons_let', -0.001745250788780265),\n",
       " ('len_4', -0.0026387755223231035),\n",
       " ('len_6', -0.009795389491800952),\n",
       " ('len_7', 0.013959448128026637),\n",
       " ('len_9', 0.021266996521882423),\n",
       " ('len_ном', 0.02495952371413593),\n",
       " ('len_8', 0.03194828690009098),\n",
       " ('len_5', -0.03613934834344326),\n",
       " ('vowels_let', -0.07656049510471663),\n",
       " ('len_ера', 0.08644165719783382),\n",
       " ('len_0', -0.09154014090419638),\n",
       " ('len_ние', 0.11405977476593829),\n",
       " ('len_ков', -0.12321600645217323),\n",
       " ('supper', 0.17128783913548765),\n",
       " ('len_сть', -0.20738076877723566),\n",
       " ('len_ами', -0.21815642519669834),\n",
       " ('len_ова', 0.222618654729478),\n",
       " ('big_sym', 0.5014073966135885)]"
      ]
     },
     "execution_count": 124,
     "metadata": {},
     "output_type": "execute_result"
    }
   ],
   "source": [
    "weig_list"
   ]
  },
  {
   "cell_type": "markdown",
   "metadata": {},
   "source": [
    "Так как лассо отбирает признаки, но не подходит для классификации, оставим только признаки, которым лассо присвоило большие веса"
   ]
  },
  {
   "cell_type": "code",
   "execution_count": 125,
   "metadata": {},
   "outputs": [],
   "source": [
    "feat_list=['len_7', 'len_6', 'len_5', 'len_9', 'len_8', 'len_ном', 'vowels_let', 'len_0', 'len_ков', 'len_ера', 'len_ние', \n",
    "         'supper', 'len_ами', 'len_сть', 'len_ова', 'big_sym']"
   ]
  },
  {
   "cell_type": "markdown",
   "metadata": {},
   "source": [
    "Обучим случайный лес на отобранных признаках и посмотрим влияет ли это на качество"
   ]
  },
  {
   "cell_type": "code",
   "execution_count": 126,
   "metadata": {},
   "outputs": [],
   "source": [
    "X_train ,  X_test ,  y_train ,  y_test   = train_test_split(data.loc(axis=1)[feat_list], balance_target, test_size=0.2)"
   ]
  },
  {
   "cell_type": "code",
   "execution_count": 127,
   "metadata": {},
   "outputs": [
    {
     "name": "stdout",
     "output_type": "stream",
     "text": [
      "Площадь под рок кривой на трейне 0.7782475860202128\n",
      "Площадь под рок кривой на тесте 0.7935302899890054\n"
     ]
    }
   ],
   "source": [
    "rf_short=RandomForestClassifier(n_estimators=100, n_jobs=-1)\n",
    "rf_short.fit(X_train, y_train)\n",
    "\n",
    "train_preds_rf_sh = rf_short.predict(X_train)\n",
    "test_preds_rf_sh = rf_short.predict(X_test)\n",
    "print('Площадь под рок кривой на трейне',roc_auc_score(y_train, train_preds_rf_sh))\n",
    "print('Площадь под рок кривой на тесте',roc_auc_score(y_test, test_preds_rf_sh))"
   ]
  },
  {
   "cell_type": "code",
   "execution_count": 128,
   "metadata": {},
   "outputs": [
    {
     "data": {
      "text/plain": [
       "Text(0.5, 1.05, 'Confusion_matrix for RF')"
      ]
     },
     "execution_count": 128,
     "metadata": {},
     "output_type": "execute_result"
    },
    {
     "data": {
      "image/png": "[encoded data removed]",
      "text/plain": [
       "<Figure size 432x288 with 2 Axes>"
      ]
     },
     "metadata": {
      "needs_background": "light"
     },
     "output_type": "display_data"
    }
   ],
   "source": [
    "sns.heatmap(confusion_matrix(y_train,train_preds_rf_sh),annot=True,fmt='3.0f',cmap=\"summer\")\n",
    "plt.title('Confusion_matrix for RF', y=1.05, size=25)"
   ]
  },
  {
   "cell_type": "markdown",
   "metadata": {},
   "source": [
    "На трейне рок аук не значительно вырос, а на тесте снизился на 0.1. Воспользуемся оверсэмплингом и оценим качество на нем."
   ]
  },
  {
   "cell_type": "markdown",
   "metadata": {},
   "source": [
    "## Баланс классов"
   ]
  },
  {
   "cell_type": "code",
   "execution_count": 129,
   "metadata": {},
   "outputs": [],
   "source": [
    "data_bal=data_res.copy()\n",
    "target_bal=target_res.copy()\n",
    "    \n",
    "def generate_feats(data, fitpr=0, end_list=[]):\n",
    "    first_letter(data)\n",
    "    word_len(data) \n",
    "    len_range(data)\n",
    "    ending(data)     \n",
    "    if fitpr==0:\n",
    "        a=data.ending.value_counts()\n",
    "        d=dict(a)\n",
    "        end_list=[]\n",
    "        for x in d:\n",
    "            if d[x]>180:\n",
    "                end_list.append(x)    \n",
    "    replace_end(data)\n",
    "    data['new_end']=[remove_end(end_list, s) for s in data.ending ]\n",
    "    let_count(data, let_list)\n",
    "    supper(data)\n",
    "    \n",
    "    cat_feat=['len_range', 'new_end']\n",
    "    len_data=pd.get_dummies(data['len_range'],prefix='len')\n",
    "    ind=len_data.columns\n",
    "    data[ind]=len_data[ind]\n",
    "    data.drop('len_range', axis=1, inplace=True)\n",
    "      \n",
    "    end_data=pd.get_dummies(data['new_end'],prefix='len')\n",
    "    ind1=end_data.columns\n",
    "    data[ind1]=end_data[ind1]\n",
    "    data.drop('new_end', axis=1, inplace=True)\n",
    "    data.drop('ending', axis=1, inplace=True)\n",
    "    data.drop('name', axis=1, inplace=True)\n",
    "    if fitpr==0:\n",
    "        return end_list\n",
    "\n",
    "end_list=generate_feats(data_bal)\n",
    "data_bal.drop('tar', axis=1, inplace=True)"
   ]
  },
  {
   "cell_type": "code",
   "execution_count": 130,
   "metadata": {},
   "outputs": [
    {
     "data": {
      "text/html": [
       "<div>\n",
       "<style scoped>\n",
       "    .dataframe tbody tr th:only-of-type {\n",
       "        vertical-align: middle;\n",
       "    }\n",
       "\n",
       "    .dataframe tbody tr th {\n",
       "        vertical-align: top;\n",
       "    }\n",
       "\n",
       "    .dataframe thead th {\n",
       "        text-align: right;\n",
       "    }\n",
       "</style>\n",
       "<table border=\"1\" class=\"dataframe\">\n",
       "  <thead>\n",
       "    <tr style=\"text-align: right;\">\n",
       "      <th></th>\n",
       "      <th>big_sym</th>\n",
       "      <th>vowels_let</th>\n",
       "      <th>cons_let</th>\n",
       "      <th>supper</th>\n",
       "      <th>len_4</th>\n",
       "      <th>len_5</th>\n",
       "      <th>len_6</th>\n",
       "      <th>len_7</th>\n",
       "      <th>len_8</th>\n",
       "      <th>len_9</th>\n",
       "      <th>...</th>\n",
       "      <th>len_тов</th>\n",
       "      <th>len_том</th>\n",
       "      <th>len_тор</th>\n",
       "      <th>len_тью</th>\n",
       "      <th>len_цам</th>\n",
       "      <th>len_цев</th>\n",
       "      <th>len_ции</th>\n",
       "      <th>len_цию</th>\n",
       "      <th>len_ция</th>\n",
       "      <th>len_ями</th>\n",
       "    </tr>\n",
       "  </thead>\n",
       "  <tbody>\n",
       "    <tr>\n",
       "      <td>0</td>\n",
       "      <td>1</td>\n",
       "      <td>4</td>\n",
       "      <td>4</td>\n",
       "      <td>0</td>\n",
       "      <td>0</td>\n",
       "      <td>0</td>\n",
       "      <td>0</td>\n",
       "      <td>0</td>\n",
       "      <td>1</td>\n",
       "      <td>0</td>\n",
       "      <td>...</td>\n",
       "      <td>0</td>\n",
       "      <td>0</td>\n",
       "      <td>0</td>\n",
       "      <td>0</td>\n",
       "      <td>0</td>\n",
       "      <td>0</td>\n",
       "      <td>0</td>\n",
       "      <td>0</td>\n",
       "      <td>0</td>\n",
       "      <td>0</td>\n",
       "    </tr>\n",
       "    <tr>\n",
       "      <td>1</td>\n",
       "      <td>1</td>\n",
       "      <td>2</td>\n",
       "      <td>1</td>\n",
       "      <td>0</td>\n",
       "      <td>0</td>\n",
       "      <td>0</td>\n",
       "      <td>0</td>\n",
       "      <td>0</td>\n",
       "      <td>0</td>\n",
       "      <td>0</td>\n",
       "      <td>...</td>\n",
       "      <td>0</td>\n",
       "      <td>0</td>\n",
       "      <td>0</td>\n",
       "      <td>0</td>\n",
       "      <td>0</td>\n",
       "      <td>0</td>\n",
       "      <td>0</td>\n",
       "      <td>0</td>\n",
       "      <td>0</td>\n",
       "      <td>0</td>\n",
       "    </tr>\n",
       "    <tr>\n",
       "      <td>2</td>\n",
       "      <td>1</td>\n",
       "      <td>3</td>\n",
       "      <td>2</td>\n",
       "      <td>0</td>\n",
       "      <td>0</td>\n",
       "      <td>1</td>\n",
       "      <td>0</td>\n",
       "      <td>0</td>\n",
       "      <td>0</td>\n",
       "      <td>0</td>\n",
       "      <td>...</td>\n",
       "      <td>0</td>\n",
       "      <td>0</td>\n",
       "      <td>0</td>\n",
       "      <td>0</td>\n",
       "      <td>0</td>\n",
       "      <td>0</td>\n",
       "      <td>0</td>\n",
       "      <td>0</td>\n",
       "      <td>0</td>\n",
       "      <td>0</td>\n",
       "    </tr>\n",
       "    <tr>\n",
       "      <td>3</td>\n",
       "      <td>0</td>\n",
       "      <td>3</td>\n",
       "      <td>2</td>\n",
       "      <td>1</td>\n",
       "      <td>0</td>\n",
       "      <td>1</td>\n",
       "      <td>0</td>\n",
       "      <td>0</td>\n",
       "      <td>0</td>\n",
       "      <td>0</td>\n",
       "      <td>...</td>\n",
       "      <td>0</td>\n",
       "      <td>0</td>\n",
       "      <td>0</td>\n",
       "      <td>0</td>\n",
       "      <td>0</td>\n",
       "      <td>0</td>\n",
       "      <td>0</td>\n",
       "      <td>0</td>\n",
       "      <td>0</td>\n",
       "      <td>0</td>\n",
       "    </tr>\n",
       "    <tr>\n",
       "      <td>4</td>\n",
       "      <td>1</td>\n",
       "      <td>4</td>\n",
       "      <td>2</td>\n",
       "      <td>0</td>\n",
       "      <td>0</td>\n",
       "      <td>0</td>\n",
       "      <td>1</td>\n",
       "      <td>0</td>\n",
       "      <td>0</td>\n",
       "      <td>0</td>\n",
       "      <td>...</td>\n",
       "      <td>0</td>\n",
       "      <td>0</td>\n",
       "      <td>0</td>\n",
       "      <td>0</td>\n",
       "      <td>0</td>\n",
       "      <td>0</td>\n",
       "      <td>0</td>\n",
       "      <td>0</td>\n",
       "      <td>0</td>\n",
       "      <td>0</td>\n",
       "    </tr>\n",
       "    <tr>\n",
       "      <td>...</td>\n",
       "      <td>...</td>\n",
       "      <td>...</td>\n",
       "      <td>...</td>\n",
       "      <td>...</td>\n",
       "      <td>...</td>\n",
       "      <td>...</td>\n",
       "      <td>...</td>\n",
       "      <td>...</td>\n",
       "      <td>...</td>\n",
       "      <td>...</td>\n",
       "      <td>...</td>\n",
       "      <td>...</td>\n",
       "      <td>...</td>\n",
       "      <td>...</td>\n",
       "      <td>...</td>\n",
       "      <td>...</td>\n",
       "      <td>...</td>\n",
       "      <td>...</td>\n",
       "      <td>...</td>\n",
       "      <td>...</td>\n",
       "      <td>...</td>\n",
       "    </tr>\n",
       "    <tr>\n",
       "      <td>101403</td>\n",
       "      <td>1</td>\n",
       "      <td>2</td>\n",
       "      <td>3</td>\n",
       "      <td>0</td>\n",
       "      <td>0</td>\n",
       "      <td>1</td>\n",
       "      <td>0</td>\n",
       "      <td>0</td>\n",
       "      <td>0</td>\n",
       "      <td>0</td>\n",
       "      <td>...</td>\n",
       "      <td>0</td>\n",
       "      <td>0</td>\n",
       "      <td>0</td>\n",
       "      <td>0</td>\n",
       "      <td>0</td>\n",
       "      <td>0</td>\n",
       "      <td>0</td>\n",
       "      <td>0</td>\n",
       "      <td>0</td>\n",
       "      <td>0</td>\n",
       "    </tr>\n",
       "    <tr>\n",
       "      <td>101404</td>\n",
       "      <td>0</td>\n",
       "      <td>2</td>\n",
       "      <td>3</td>\n",
       "      <td>0</td>\n",
       "      <td>0</td>\n",
       "      <td>1</td>\n",
       "      <td>0</td>\n",
       "      <td>0</td>\n",
       "      <td>0</td>\n",
       "      <td>0</td>\n",
       "      <td>...</td>\n",
       "      <td>0</td>\n",
       "      <td>0</td>\n",
       "      <td>0</td>\n",
       "      <td>0</td>\n",
       "      <td>0</td>\n",
       "      <td>0</td>\n",
       "      <td>0</td>\n",
       "      <td>0</td>\n",
       "      <td>0</td>\n",
       "      <td>0</td>\n",
       "    </tr>\n",
       "    <tr>\n",
       "      <td>101405</td>\n",
       "      <td>0</td>\n",
       "      <td>2</td>\n",
       "      <td>2</td>\n",
       "      <td>0</td>\n",
       "      <td>1</td>\n",
       "      <td>0</td>\n",
       "      <td>0</td>\n",
       "      <td>0</td>\n",
       "      <td>0</td>\n",
       "      <td>0</td>\n",
       "      <td>...</td>\n",
       "      <td>0</td>\n",
       "      <td>0</td>\n",
       "      <td>0</td>\n",
       "      <td>0</td>\n",
       "      <td>0</td>\n",
       "      <td>0</td>\n",
       "      <td>0</td>\n",
       "      <td>0</td>\n",
       "      <td>0</td>\n",
       "      <td>0</td>\n",
       "    </tr>\n",
       "    <tr>\n",
       "      <td>101406</td>\n",
       "      <td>0</td>\n",
       "      <td>3</td>\n",
       "      <td>4</td>\n",
       "      <td>0</td>\n",
       "      <td>0</td>\n",
       "      <td>0</td>\n",
       "      <td>0</td>\n",
       "      <td>1</td>\n",
       "      <td>0</td>\n",
       "      <td>0</td>\n",
       "      <td>...</td>\n",
       "      <td>0</td>\n",
       "      <td>0</td>\n",
       "      <td>0</td>\n",
       "      <td>0</td>\n",
       "      <td>0</td>\n",
       "      <td>0</td>\n",
       "      <td>0</td>\n",
       "      <td>0</td>\n",
       "      <td>0</td>\n",
       "      <td>0</td>\n",
       "    </tr>\n",
       "    <tr>\n",
       "      <td>101407</td>\n",
       "      <td>0</td>\n",
       "      <td>2</td>\n",
       "      <td>5</td>\n",
       "      <td>0</td>\n",
       "      <td>0</td>\n",
       "      <td>0</td>\n",
       "      <td>0</td>\n",
       "      <td>1</td>\n",
       "      <td>0</td>\n",
       "      <td>0</td>\n",
       "      <td>...</td>\n",
       "      <td>0</td>\n",
       "      <td>0</td>\n",
       "      <td>0</td>\n",
       "      <td>0</td>\n",
       "      <td>0</td>\n",
       "      <td>0</td>\n",
       "      <td>0</td>\n",
       "      <td>0</td>\n",
       "      <td>0</td>\n",
       "      <td>0</td>\n",
       "    </tr>\n",
       "  </tbody>\n",
       "</table>\n",
       "<p>101408 rows × 101 columns</p>\n",
       "</div>"
      ],
      "text/plain": [
       "        big_sym  vowels_let  cons_let  supper  len_4  len_5  len_6  len_7  \\\n",
       "0             1           4         4       0      0      0      0      0   \n",
       "1             1           2         1       0      0      0      0      0   \n",
       "2             1           3         2       0      0      1      0      0   \n",
       "3             0           3         2       1      0      1      0      0   \n",
       "4             1           4         2       0      0      0      1      0   \n",
       "...         ...         ...       ...     ...    ...    ...    ...    ...   \n",
       "101403        1           2         3       0      0      1      0      0   \n",
       "101404        0           2         3       0      0      1      0      0   \n",
       "101405        0           2         2       0      1      0      0      0   \n",
       "101406        0           3         4       0      0      0      0      1   \n",
       "101407        0           2         5       0      0      0      0      1   \n",
       "\n",
       "        len_8  len_9  ...  len_тов  len_том  len_тор  len_тью  len_цам  \\\n",
       "0           1      0  ...        0        0        0        0        0   \n",
       "1           0      0  ...        0        0        0        0        0   \n",
       "2           0      0  ...        0        0        0        0        0   \n",
       "3           0      0  ...        0        0        0        0        0   \n",
       "4           0      0  ...        0        0        0        0        0   \n",
       "...       ...    ...  ...      ...      ...      ...      ...      ...   \n",
       "101403      0      0  ...        0        0        0        0        0   \n",
       "101404      0      0  ...        0        0        0        0        0   \n",
       "101405      0      0  ...        0        0        0        0        0   \n",
       "101406      0      0  ...        0        0        0        0        0   \n",
       "101407      0      0  ...        0        0        0        0        0   \n",
       "\n",
       "        len_цев  len_ции  len_цию  len_ция  len_ями  \n",
       "0             0        0        0        0        0  \n",
       "1             0        0        0        0        0  \n",
       "2             0        0        0        0        0  \n",
       "3             0        0        0        0        0  \n",
       "4             0        0        0        0        0  \n",
       "...         ...      ...      ...      ...      ...  \n",
       "101403        0        0        0        0        0  \n",
       "101404        0        0        0        0        0  \n",
       "101405        0        0        0        0        0  \n",
       "101406        0        0        0        0        0  \n",
       "101407        0        0        0        0        0  \n",
       "\n",
       "[101408 rows x 101 columns]"
      ]
     },
     "execution_count": 130,
     "metadata": {},
     "output_type": "execute_result"
    }
   ],
   "source": [
    "data_bal"
   ]
  },
  {
   "cell_type": "code",
   "execution_count": 131,
   "metadata": {},
   "outputs": [],
   "source": [
    "X_train_bal ,  X_test_bal ,  y_train_bal ,  y_test_bal   = train_test_split(data_bal, target_bal, test_size=0.2)"
   ]
  },
  {
   "cell_type": "code",
   "execution_count": 132,
   "metadata": {},
   "outputs": [
    {
     "data": {
      "text/plain": [
       "0    90770\n",
       "1    10638\n",
       "Name: tar, dtype: int64"
      ]
     },
     "execution_count": 132,
     "metadata": {},
     "output_type": "execute_result"
    }
   ],
   "source": [
    "# Рассчитаем соотношение классов\n",
    "data_res.tar.value_counts()"
   ]
  },
  {
   "cell_type": "code",
   "execution_count": 133,
   "metadata": {},
   "outputs": [
    {
     "name": "stderr",
     "output_type": "stream",
     "text": [
      "C:\\Program Files\\Programs\\Anaconda3\\lib\\site-packages\\ipykernel_launcher.py:2: DataConversionWarning: A column-vector y was passed when a 1d array was expected. Please change the shape of y to (n_samples,), for example using ravel().\n",
      "  \n"
     ]
    },
    {
     "data": {
      "text/plain": [
       "RandomForestClassifier(bootstrap=True, class_weight={0: 1, 1: 9},\n",
       "                       criterion='entropy', max_depth=None, max_features='auto',\n",
       "                       max_leaf_nodes=None, min_impurity_decrease=0.0,\n",
       "                       min_impurity_split=None, min_samples_leaf=1,\n",
       "                       min_samples_split=2, min_weight_fraction_leaf=0.0,\n",
       "                       n_estimators=150, n_jobs=-1, oob_score=False,\n",
       "                       random_state=None, verbose=0, warm_start=False)"
      ]
     },
     "execution_count": 133,
     "metadata": {},
     "output_type": "execute_result"
    }
   ],
   "source": [
    "rf_bal=RandomForestClassifier(n_estimators=150, n_jobs=-1, criterion='entropy',class_weight={0:1, 1:9})\n",
    "rf_bal.fit(X_train_bal, y_train_bal)"
   ]
  },
  {
   "cell_type": "code",
   "execution_count": 134,
   "metadata": {},
   "outputs": [
    {
     "name": "stdout",
     "output_type": "stream",
     "text": [
      "Площадь под рок кривой на трейне 0.8039451371386229\n",
      "Площадь под рок кривой на тесте 0.7943952121603742\n"
     ]
    }
   ],
   "source": [
    "train_preds_rf_bal = rf_bal.predict(X_train_bal)\n",
    "test_preds_rf_bal = rf_bal.predict(X_test_bal)\n",
    "print('Площадь под рок кривой на трейне',roc_auc_score(y_train_bal, train_preds_rf_bal))\n",
    "print('Площадь под рок кривой на тесте',roc_auc_score(y_test_bal, test_preds_rf_bal))"
   ]
  },
  {
   "cell_type": "code",
   "execution_count": 135,
   "metadata": {},
   "outputs": [
    {
     "data": {
      "text/plain": [
       "Text(0.5, 1.05, 'Confusion_matrix for RF')"
      ]
     },
     "execution_count": 135,
     "metadata": {},
     "output_type": "execute_result"
    },
    {
     "data": {
      "image/png": "[encoded data removed]",
      "text/plain": [
       "<Figure size 432x288 with 2 Axes>"
      ]
     },
     "metadata": {
      "needs_background": "light"
     },
     "output_type": "display_data"
    }
   ],
   "source": [
    "sns.heatmap(confusion_matrix(y_train_bal,train_preds_rf_bal),annot=True,fmt='3.0f',cmap=\"summer\")\n",
    "plt.title('Confusion_matrix for RF', y=1.05, size=25)"
   ]
  },
  {
   "cell_type": "code",
   "execution_count": 136,
   "metadata": {},
   "outputs": [],
   "source": [
    "def write_to_file(name,test_pred):\n",
    "    kaggle=pd.DataFrame(test_pred, columns = ['Id'])\n",
    "    kaggle['Answer']=test_pred\n",
    "    kaggle['Answer']=kaggle['Answer'].astype(float)\n",
    "    kaggle=kaggle.drop('Id', 1)\n",
    "    kaggle.to_csv(name)\n",
    "    \n",
    "lin_test_bal=lin_test.copy()\n",
    "                  \n",
    "generate_feats(lin_test,1,end_list)\n",
    "                  "
   ]
  },
  {
   "cell_type": "code",
   "execution_count": 140,
   "metadata": {},
   "outputs": [
    {
     "data": {
      "text/plain": [
       "Lasso(alpha=0.0001, copy_X=True, fit_intercept=True, max_iter=1000,\n",
       "      normalize=False, positive=False, precompute=False, random_state=None,\n",
       "      selection='cyclic', tol=0.0001, warm_start=False)"
      ]
     },
     "execution_count": 140,
     "metadata": {},
     "output_type": "execute_result"
    }
   ],
   "source": [
    "lclf_bal=Lasso(alpha=0.000 1)\n",
    "lclf_bal.fit(X_train_bal, y_train_bal)"
   ]
  },
  {
   "cell_type": "code",
   "execution_count": 143,
   "metadata": {},
   "outputs": [],
   "source": []
  },
  {
   "cell_type": "code",
   "execution_count": 144,
   "metadata": {},
   "outputs": [],
   "source": [
    "pred=lclf_bal.predict(lin_test)\n",
    "write_to_file('try2',pred)"
   ]
  },
  {
   "cell_type": "code",
   "execution_count": null,
   "metadata": {},
   "outputs": [],
   "source": []
  }
 ],
 "metadata": {
  "kernelspec": {
   "display_name": "Python 3",
   "language": "python",
   "name": "python3"
  },
  "language_info": {
   "codemirror_mode": {
    "name": "ipython",
    "version": 3
   },
   "file_extension": ".py",
   "mimetype": "text/x-python",
   "name": "python",
   "nbconvert_exporter": "python",
   "pygments_lexer": "ipython3",
   "version": "3.7.4"
  }
 },
 "nbformat": 4,
 "nbformat_minor": 2
}
